{
 "cells": [
  {
   "cell_type": "markdown",
   "metadata": {},
   "source": [
    "# Business Programming Final Project"
   ]
  },
  {
   "cell_type": "markdown",
   "metadata": {},
   "source": [
    "## Loading data\n",
    "We begin by importing the Excel spreadsheet, as well as the libraries needed.  We'll call the loaded dataframe `tabla`"
   ]
  },
  {
   "cell_type": "code",
   "execution_count": 1,
   "metadata": {},
   "outputs": [],
   "source": [
    "import pandas as pd\n",
    "import matplotlib.pyplot as plt\n",
    "\n",
    "tabla = pd.read_excel(\"Sample - Superstore archivo en Canvas.xls\")"
   ]
  },
  {
   "cell_type": "markdown",
   "metadata": {},
   "source": [
    "Let's take a look at the data"
   ]
  },
  {
   "cell_type": "code",
   "execution_count": 2,
   "metadata": {},
   "outputs": [
    {
     "name": "stdout",
     "output_type": "stream",
     "text": [
      "            Order ID Customer ID     Customer Name    Segment  \\\n",
      "0     CA-2017-152156    CG-12520       Claire Gute   Consumer   \n",
      "1     CA-2017-152156    CG-12520       Claire Gute   Consumer   \n",
      "2     CA-2017-138688    DV-13045   Darrin Van Huff  Corporate   \n",
      "3     US-2016-108966    SO-20335    Sean O'Donnell   Consumer   \n",
      "4     US-2016-108966    SO-20335    Sean O'Donnell   Consumer   \n",
      "...              ...         ...               ...        ...   \n",
      "9989  CA-2015-110422    TB-21400  Tom Boeckenhauer   Consumer   \n",
      "9990  CA-2018-121258    DB-13060       Dave Brooks   Consumer   \n",
      "9991  CA-2018-121258    DB-13060       Dave Brooks   Consumer   \n",
      "9992  CA-2018-121258    DB-13060       Dave Brooks   Consumer   \n",
      "9993  CA-2018-119914    CC-12220      Chris Cortes   Consumer   \n",
      "\n",
      "                 City  Postal Code Region       Product ID         Category  \\\n",
      "0           Henderson      42420.0  South  FUR-BO-10001798        Furniture   \n",
      "1           Henderson      42420.0  South  FUR-CH-10000454        Furniture   \n",
      "2         Los Angeles      90036.0   West  OFF-LA-10000240  Office Supplies   \n",
      "3     Fort Lauderdale      33311.0  South  FUR-TA-10000577        Furniture   \n",
      "4     Fort Lauderdale      33311.0  South  OFF-ST-10000760  Office Supplies   \n",
      "...               ...          ...    ...              ...              ...   \n",
      "9989            Miami      33180.0  South  FUR-FU-10001889        Furniture   \n",
      "9990       Costa Mesa      92627.0   West  FUR-FU-10000747        Furniture   \n",
      "9991       Costa Mesa      92627.0   West  TEC-PH-10003645       Technology   \n",
      "9992       Costa Mesa      92627.0   West  OFF-PA-10004041  Office Supplies   \n",
      "9993      Westminster      92683.0   West  OFF-AP-10002684  Office Supplies   \n",
      "\n",
      "     Sub-Category                                       Product Name  \\\n",
      "0       Bookcases                  Bush Somerset Collection Bookcase   \n",
      "1          Chairs  Hon Deluxe Fabric Upholstered Stacking Chairs,...   \n",
      "2          Labels  Self-Adhesive Address Labels for Typewriters b...   \n",
      "3          Tables      Bretford CR4500 Series Slim Rectangular Table   \n",
      "4         Storage                     Eldon Fold 'N Roll Cart System   \n",
      "...           ...                                                ...   \n",
      "9989  Furnishings                             Ultra Door Pull Handle   \n",
      "9990  Furnishings  Tenex B1-RE Series Chair Mats for Low Pile Car...   \n",
      "9991       Phones                              Aastra 57i VoIP phone   \n",
      "9992        Paper  It's Hot Message Books with Stickers, 2 3/4\" x 5\"   \n",
      "9993   Appliances  Acco 7-Outlet Masterpiece Power Center, Wihtou...   \n",
      "\n",
      "         Sales  Quantity  Discount    Profit  \n",
      "0     261.9600         2      0.00   41.9136  \n",
      "1     731.9400         3      0.00  219.5820  \n",
      "2      14.6200         2      0.00    6.8714  \n",
      "3     957.5775         5      0.45 -383.0310  \n",
      "4      22.3680         2      0.20    2.5164  \n",
      "...        ...       ...       ...       ...  \n",
      "9989   25.2480         3      0.20    4.1028  \n",
      "9990   91.9600         2      0.00   15.6332  \n",
      "9991  258.5760         2      0.20   19.3932  \n",
      "9992   29.6000         4      0.00   13.3200  \n",
      "9993  243.1600         2      0.00   72.9480  \n",
      "\n",
      "[9994 rows x 15 columns]\n"
     ]
    }
   ],
   "source": [
    "print(tabla)"
   ]
  },
  {
   "cell_type": "markdown",
   "metadata": {},
   "source": [
    "We can see that there are 15 variables (columns) and 9,994 rows.\n",
    "Let's focus on dividing the dataset into regions.  We create a \n",
    "variable called `regions` that contains the string values of the\n",
    "different regions in the dataset."
   ]
  },
  {
   "cell_type": "code",
   "execution_count": 3,
   "metadata": {},
   "outputs": [],
   "source": [
    "regions = tabla.Region.unique()"
   ]
  },
  {
   "cell_type": "code",
   "execution_count": 4,
   "metadata": {
    "scrolled": true
   },
   "outputs": [
    {
     "name": "stdout",
     "output_type": "stream",
     "text": [
      "['South' 'West' 'Central' 'East']\n"
     ]
    }
   ],
   "source": [
    "print(regions)"
   ]
  },
  {
   "cell_type": "markdown",
   "metadata": {},
   "source": [
    "We see that there are four regions: South, West, Central and East.  Let's create one table per region and store each in a different variable so that we can perform further analysis on each region."
   ]
  },
  {
   "cell_type": "code",
   "execution_count": 5,
   "metadata": {},
   "outputs": [],
   "source": [
    "tablaSouth = tabla.groupby('Region').get_group('South')\n",
    "tablaWest = tabla.groupby('Region').get_group('West')\n",
    "tablaCentral = tabla.groupby('Region').get_group('Central')\n",
    "tablaEast = tabla.groupby('Region').get_group('East')"
   ]
  },
  {
   "cell_type": "markdown",
   "metadata": {},
   "source": [
    "Once we have one table per region, we can perform analysis on different variables.  Let's begin by calculating the total sales for each region, and store the value of them all in a list: `regionSales`"
   ]
  },
  {
   "cell_type": "code",
   "execution_count": 8,
   "metadata": {},
   "outputs": [
    {
     "name": "stdout",
     "output_type": "stream",
     "text": [
      "[391721.905, 725457.8245, 501239.89080000005, 678781.24]\n"
     ]
    }
   ],
   "source": [
    "southSales = tablaSouth['Sales'].sum()\n",
    "westSales = tablaWest['Sales'].sum()\n",
    "centralSales = tablaCentral['Sales'].sum()\n",
    "eastSales = tablaEast['Sales'].sum()\n",
    "regionSales = [southSales, westSales, centralSales, eastSales]\n",
    "print(regionSales)"
   ]
  },
  {
   "cell_type": "markdown",
   "metadata": {},
   "source": [
    "Now we can plot the results to better compare the sales in each region:"
   ]
  },
  {
   "cell_type": "code",
   "execution_count": 11,
   "metadata": {},
   "outputs": [
    {
     "data": {
      "image/png": "[encoded data removed]",
      "text/plain": [
       "<Figure size 432x288 with 1 Axes>"
      ]
     },
     "metadata": {
      "needs_background": "light"
     },
     "output_type": "display_data"
    }
   ],
   "source": [
    "plt.bar(regions, regionSales)\n",
    "plt.show()"
   ]
  },
  {
   "cell_type": "markdown",
   "metadata": {},
   "source": [
    "We see that the West region is the one with the greatest sales.  But is it the most profitable as well?  Let's find the total profit per region and plot the results to find out."
   ]
  },
  {
   "cell_type": "code",
   "execution_count": 14,
   "metadata": {},
   "outputs": [
    {
     "data": {
      "image/png": "[encoded data removed]",
      "text/plain": [
       "<Figure size 432x288 with 1 Axes>"
      ]
     },
     "metadata": {
      "needs_background": "light"
     },
     "output_type": "display_data"
    }
   ],
   "source": [
    "southProfit = tablaSouth['Profit'].sum()\n",
    "westProfit = tablaWest['Profit'].sum()\n",
    "centralProfit = tablaCentral['Profit'].sum()\n",
    "eastProfit = tablaEast['Profit'].sum()\n",
    "regionProfit = [southProfit, westProfit, centralProfit, eastProfit]\n",
    "plt.bar(regions, regionProfit)\n",
    "plt.show()"
   ]
  },
  {
   "cell_type": "markdown",
   "metadata": {},
   "source": [
    "The West region is indeed the most profitable.  Curiously enough, we've found out that, even though the Central region has greater sales than the South region, it is not as profitable as the South.  Now let's find out about the quantity of products sold."
   ]
  },
  {
   "cell_type": "code",
   "execution_count": 15,
   "metadata": {},
   "outputs": [
    {
     "data": {
      "image/png": "[encoded data removed]",
      "text/plain": [
       "<Figure size 432x288 with 1 Axes>"
      ]
     },
     "metadata": {
      "needs_background": "light"
     },
     "output_type": "display_data"
    }
   ],
   "source": [
    "southQuantity = tablaSouth['Quantity'].sum()\n",
    "westQuantity = tablaWest['Quantity'].sum()\n",
    "centralQuantity = tablaCentral['Quantity'].sum()\n",
    "eastQuantity = tablaEast['Quantity'].sum()\n",
    "regionQuantity = [southQuantity, westQuantity, centralQuantity, eastQuantity]\n",
    "plt.bar(regions, regionQuantity)\n",
    "plt.show()"
   ]
  },
  {
   "cell_type": "markdown",
   "metadata": {},
   "source": [
    "Again we see that the West region is the one that sold the most amount of products.  Now let's find out if there is any impact on the Discounts and Sales."
   ]
  },
  {
   "cell_type": "code",
   "execution_count": 16,
   "metadata": {},
   "outputs": [],
   "source": [
    "tabla['salesWithoutDiscount'] = tabla.Sales / (1 - tabla.Discount)"
   ]
  },
  {
   "cell_type": "code",
   "execution_count": 18,
   "metadata": {},
   "outputs": [],
   "source": [
    "tabla['discountUSD'] = tabla.salesWithoutDiscount - tabla.Sales\n",
    "tablaSouth = tabla.groupby('Region').get_group('South')\n",
    "tablaWest = tabla.groupby('Region').get_group('West')\n",
    "tablaCentral = tabla.groupby('Region').get_group('Central')\n",
    "tablaEast = tabla.groupby('Region').get_group('East')"
   ]
  },
  {
   "cell_type": "code",
   "execution_count": 19,
   "metadata": {},
   "outputs": [
    {
     "data": {
      "image/png": "[encoded data removed]",
      "text/plain": [
       "<Figure size 432x288 with 1 Axes>"
      ]
     },
     "metadata": {
      "needs_background": "light"
     },
     "output_type": "display_data"
    }
   ],
   "source": [
    "southDiscount = tablaSouth['discountUSD'].sum()\n",
    "westDiscount = tablaWest['discountUSD'].sum()\n",
    "centralDiscount = tablaCentral['discountUSD'].sum()\n",
    "eastDiscount = tablaEast['discountUSD'].sum()\n",
    "regionDiscount = [southDiscount, westDiscount, centralDiscount, eastDiscount]\n",
    "plt.bar(regions, regionDiscount)\n",
    "plt.show()"
   ]
  },
  {
   "cell_type": "markdown",
   "metadata": {},
   "source": [
    "Again the West region doesn't give as much discount as the Central or the East regions, but it still manages to have more sales and be more profitable."
   ]
  },
  {
   "cell_type": "code",
   "execution_count": null,
   "metadata": {},
   "outputs": [],
   "source": []
  }
 ],
 "metadata": {
  "kernelspec": {
   "display_name": "Python 3",
   "language": "python",
   "name": "python3"
  },
  "language_info": {
   "codemirror_mode": {
    "name": "ipython",
    "version": 3
   },
   "file_extension": ".py",
   "mimetype": "text/x-python",
   "name": "python",
   "nbconvert_exporter": "python",
   "pygments_lexer": "ipython3",
   "version": "3.7.4"
  }
 },
 "nbformat": 4,
 "nbformat_minor": 2
}
